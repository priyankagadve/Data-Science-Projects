{
 "cells": [
  {
   "cell_type": "markdown",
   "id": "a06951c7",
   "metadata": {},
   "source": [
    "# Amazon_Product_Recommendation_System\n",
    "\n",
    "So this is a very interesting problem of Recommendation System, Recommendation System is now a days very very common whether its e-commerce companies like Amazon, Flipkart.  "
   ]
  },
  {
   "cell_type": "markdown",
   "id": "06e0727c",
   "metadata": {},
   "source": [
    "# Business Objective"
   ]
  },
  {
   "cell_type": "markdown",
   "id": "7fb8c2e7",
   "metadata": {},
   "source": [
    "# Constaints"
   ]
  },
  {
   "cell_type": "markdown",
   "id": "2ef19c37",
   "metadata": {},
   "source": [
    "# Machine Learning Formulation"
   ]
  },
  {
   "cell_type": "markdown",
   "id": "566b13df",
   "metadata": {},
   "source": [
    "# Data"
   ]
  },
  {
   "cell_type": "code",
   "execution_count": 1,
   "id": "5e0a225d",
   "metadata": {},
   "outputs": [],
   "source": [
    "#importing the libraries\n",
    "\n",
    "from PIL import Image\n",
    "import requests\n",
    "from io import BytesIO\n",
    "import matplotlib.pyplot as plt\n",
    "import numpy as np\n",
    "import pandas as pd\n",
    "import warnings\n",
    "from bs4 import BeautifulSoup\n",
    "from nltk.corpus import stopwords\n",
    "from nltk.tokenize import word_tokenize\n",
    "import nltk\n",
    "import math\n",
    "import time\n",
    "import re\n",
    "import os\n",
    "import seaborn as sns\n",
    "from collections import Counter\n",
    "from sklearn.feature_extraction.text import CountVectorizer\n",
    "from sklearn.feature_extraction.text import TfidfVectorizer\n",
    "from sklearn.metrics.pairwise import cosine_similarity  \n",
    "from sklearn.metrics import pairwise_distances\n",
    "from matplotlib import gridspec\n",
    "from scipy.sparse import hstack\n",
    "warnings.filterwarnings(\"ignore\")"
   ]
  },
  {
   "cell_type": "code",
   "execution_count": 2,
   "id": "cd582911",
   "metadata": {},
   "outputs": [],
   "source": [
    "# we have give a json file which consists of all information about\n",
    "# the products\n",
    "# loading the data using pandas' read_json file.\n",
    "data = pd.read_json('tops_fashion.json')\n",
    "\n"
   ]
  },
  {
   "cell_type": "code",
   "execution_count": 3,
   "id": "199fec2d",
   "metadata": {},
   "outputs": [
    {
     "data": {
      "text/html": [
       "<div>\n",
       "<style scoped>\n",
       "    .dataframe tbody tr th:only-of-type {\n",
       "        vertical-align: middle;\n",
       "    }\n",
       "\n",
       "    .dataframe tbody tr th {\n",
       "        vertical-align: top;\n",
       "    }\n",
       "\n",
       "    .dataframe thead th {\n",
       "        text-align: right;\n",
       "    }\n",
       "</style>\n",
       "<table border=\"1\" class=\"dataframe\">\n",
       "  <thead>\n",
       "    <tr style=\"text-align: right;\">\n",
       "      <th></th>\n",
       "      <th>sku</th>\n",
       "      <th>asin</th>\n",
       "      <th>product_type_name</th>\n",
       "      <th>formatted_price</th>\n",
       "      <th>author</th>\n",
       "      <th>color</th>\n",
       "      <th>brand</th>\n",
       "      <th>publisher</th>\n",
       "      <th>availability</th>\n",
       "      <th>reviews</th>\n",
       "      <th>large_image_url</th>\n",
       "      <th>availability_type</th>\n",
       "      <th>small_image_url</th>\n",
       "      <th>editorial_review</th>\n",
       "      <th>title</th>\n",
       "      <th>model</th>\n",
       "      <th>medium_image_url</th>\n",
       "      <th>manufacturer</th>\n",
       "      <th>editorial_reivew</th>\n",
       "    </tr>\n",
       "  </thead>\n",
       "  <tbody>\n",
       "    <tr>\n",
       "      <th>0</th>\n",
       "      <td>None</td>\n",
       "      <td>B016I2TS4W</td>\n",
       "      <td>SHIRT</td>\n",
       "      <td>None</td>\n",
       "      <td>None</td>\n",
       "      <td>None</td>\n",
       "      <td>FNC7C</td>\n",
       "      <td>None</td>\n",
       "      <td>None</td>\n",
       "      <td>[False, https://www.amazon.com/reviews/iframe?...</td>\n",
       "      <td>https://images-na.ssl-images-amazon.com/images...</td>\n",
       "      <td>None</td>\n",
       "      <td>https://images-na.ssl-images-amazon.com/images...</td>\n",
       "      <td>Minions Como Superheroes Ironman Women's O Nec...</td>\n",
       "      <td>Minions Como Superheroes Ironman Long Sleeve R...</td>\n",
       "      <td>None</td>\n",
       "      <td>https://images-na.ssl-images-amazon.com/images...</td>\n",
       "      <td>None</td>\n",
       "      <td>NaN</td>\n",
       "    </tr>\n",
       "    <tr>\n",
       "      <th>1</th>\n",
       "      <td>None</td>\n",
       "      <td>B01N49AI08</td>\n",
       "      <td>SHIRT</td>\n",
       "      <td>None</td>\n",
       "      <td>None</td>\n",
       "      <td>None</td>\n",
       "      <td>FIG Clothing</td>\n",
       "      <td>None</td>\n",
       "      <td>None</td>\n",
       "      <td>[False, https://www.amazon.com/reviews/iframe?...</td>\n",
       "      <td>https://images-na.ssl-images-amazon.com/images...</td>\n",
       "      <td>None</td>\n",
       "      <td>https://images-na.ssl-images-amazon.com/images...</td>\n",
       "      <td>Sizing runs on the small side. FIG® recommends...</td>\n",
       "      <td>FIG Clothing Womens Izo Tunic</td>\n",
       "      <td>None</td>\n",
       "      <td>https://images-na.ssl-images-amazon.com/images...</td>\n",
       "      <td>None</td>\n",
       "      <td>NaN</td>\n",
       "    </tr>\n",
       "    <tr>\n",
       "      <th>2</th>\n",
       "      <td>None</td>\n",
       "      <td>B01JDPCOHO</td>\n",
       "      <td>SHIRT</td>\n",
       "      <td>None</td>\n",
       "      <td>None</td>\n",
       "      <td>None</td>\n",
       "      <td>FIG Clothing</td>\n",
       "      <td>None</td>\n",
       "      <td>None</td>\n",
       "      <td>[False, https://www.amazon.com/reviews/iframe?...</td>\n",
       "      <td>https://images-na.ssl-images-amazon.com/images...</td>\n",
       "      <td>None</td>\n",
       "      <td>https://images-na.ssl-images-amazon.com/images...</td>\n",
       "      <td>Sizing runs on the small side. FIG® recommends...</td>\n",
       "      <td>FIG Clothing Womens Won Top</td>\n",
       "      <td>None</td>\n",
       "      <td>https://images-na.ssl-images-amazon.com/images...</td>\n",
       "      <td>None</td>\n",
       "      <td>NaN</td>\n",
       "    </tr>\n",
       "    <tr>\n",
       "      <th>3</th>\n",
       "      <td>None</td>\n",
       "      <td>B01N19U5H5</td>\n",
       "      <td>SHIRT</td>\n",
       "      <td>None</td>\n",
       "      <td>None</td>\n",
       "      <td>None</td>\n",
       "      <td>Focal18</td>\n",
       "      <td>None</td>\n",
       "      <td>None</td>\n",
       "      <td>[True, https://www.amazon.com/reviews/iframe?a...</td>\n",
       "      <td>https://images-na.ssl-images-amazon.com/images...</td>\n",
       "      <td>None</td>\n",
       "      <td>https://images-na.ssl-images-amazon.com/images...</td>\n",
       "      <td>100% Brand New &amp; Fashion&lt;br&gt; Quantity: 1 Piece...</td>\n",
       "      <td>Focal18 Sailor Collar Bubble Sleeve Blouse Shi...</td>\n",
       "      <td>None</td>\n",
       "      <td>https://images-na.ssl-images-amazon.com/images...</td>\n",
       "      <td>None</td>\n",
       "      <td>NaN</td>\n",
       "    </tr>\n",
       "    <tr>\n",
       "      <th>4</th>\n",
       "      <td>None</td>\n",
       "      <td>B004GSI2OS</td>\n",
       "      <td>SHIRT</td>\n",
       "      <td>$26.26</td>\n",
       "      <td>None</td>\n",
       "      <td>Onyx Black/ Stone</td>\n",
       "      <td>FeatherLite</td>\n",
       "      <td>None</td>\n",
       "      <td>Usually ships in 6-10 business days</td>\n",
       "      <td>[False, https://www.amazon.com/reviews/iframe?...</td>\n",
       "      <td>https://images-na.ssl-images-amazon.com/images...</td>\n",
       "      <td>now</td>\n",
       "      <td>https://images-na.ssl-images-amazon.com/images...</td>\n",
       "      <td></td>\n",
       "      <td>Featherlite Ladies' Long Sleeve Stain Resistan...</td>\n",
       "      <td>None</td>\n",
       "      <td>https://images-na.ssl-images-amazon.com/images...</td>\n",
       "      <td>None</td>\n",
       "      <td>NaN</td>\n",
       "    </tr>\n",
       "  </tbody>\n",
       "</table>\n",
       "</div>"
      ],
      "text/plain": [
       "    sku        asin product_type_name formatted_price author  \\\n",
       "0  None  B016I2TS4W             SHIRT            None   None   \n",
       "1  None  B01N49AI08             SHIRT            None   None   \n",
       "2  None  B01JDPCOHO             SHIRT            None   None   \n",
       "3  None  B01N19U5H5             SHIRT            None   None   \n",
       "4  None  B004GSI2OS             SHIRT          $26.26   None   \n",
       "\n",
       "               color         brand publisher  \\\n",
       "0               None         FNC7C      None   \n",
       "1               None  FIG Clothing      None   \n",
       "2               None  FIG Clothing      None   \n",
       "3               None       Focal18      None   \n",
       "4  Onyx Black/ Stone   FeatherLite      None   \n",
       "\n",
       "                          availability  \\\n",
       "0                                 None   \n",
       "1                                 None   \n",
       "2                                 None   \n",
       "3                                 None   \n",
       "4  Usually ships in 6-10 business days   \n",
       "\n",
       "                                             reviews  \\\n",
       "0  [False, https://www.amazon.com/reviews/iframe?...   \n",
       "1  [False, https://www.amazon.com/reviews/iframe?...   \n",
       "2  [False, https://www.amazon.com/reviews/iframe?...   \n",
       "3  [True, https://www.amazon.com/reviews/iframe?a...   \n",
       "4  [False, https://www.amazon.com/reviews/iframe?...   \n",
       "\n",
       "                                     large_image_url availability_type  \\\n",
       "0  https://images-na.ssl-images-amazon.com/images...              None   \n",
       "1  https://images-na.ssl-images-amazon.com/images...              None   \n",
       "2  https://images-na.ssl-images-amazon.com/images...              None   \n",
       "3  https://images-na.ssl-images-amazon.com/images...              None   \n",
       "4  https://images-na.ssl-images-amazon.com/images...               now   \n",
       "\n",
       "                                     small_image_url  \\\n",
       "0  https://images-na.ssl-images-amazon.com/images...   \n",
       "1  https://images-na.ssl-images-amazon.com/images...   \n",
       "2  https://images-na.ssl-images-amazon.com/images...   \n",
       "3  https://images-na.ssl-images-amazon.com/images...   \n",
       "4  https://images-na.ssl-images-amazon.com/images...   \n",
       "\n",
       "                                    editorial_review  \\\n",
       "0  Minions Como Superheroes Ironman Women's O Nec...   \n",
       "1  Sizing runs on the small side. FIG® recommends...   \n",
       "2  Sizing runs on the small side. FIG® recommends...   \n",
       "3  100% Brand New & Fashion<br> Quantity: 1 Piece...   \n",
       "4                                                      \n",
       "\n",
       "                                               title model  \\\n",
       "0  Minions Como Superheroes Ironman Long Sleeve R...  None   \n",
       "1                      FIG Clothing Womens Izo Tunic  None   \n",
       "2                        FIG Clothing Womens Won Top  None   \n",
       "3  Focal18 Sailor Collar Bubble Sleeve Blouse Shi...  None   \n",
       "4  Featherlite Ladies' Long Sleeve Stain Resistan...  None   \n",
       "\n",
       "                                    medium_image_url manufacturer  \\\n",
       "0  https://images-na.ssl-images-amazon.com/images...         None   \n",
       "1  https://images-na.ssl-images-amazon.com/images...         None   \n",
       "2  https://images-na.ssl-images-amazon.com/images...         None   \n",
       "3  https://images-na.ssl-images-amazon.com/images...         None   \n",
       "4  https://images-na.ssl-images-amazon.com/images...         None   \n",
       "\n",
       "  editorial_reivew  \n",
       "0              NaN  \n",
       "1              NaN  \n",
       "2              NaN  \n",
       "3              NaN  \n",
       "4              NaN  "
      ]
     },
     "execution_count": 3,
     "metadata": {},
     "output_type": "execute_result"
    }
   ],
   "source": [
    "data.head() #this is the first five rows in data"
   ]
  },
  {
   "cell_type": "code",
   "execution_count": 4,
   "id": "01cf605b",
   "metadata": {},
   "outputs": [
    {
     "data": {
      "text/plain": [
       "Index(['sku', 'asin', 'product_type_name', 'formatted_price', 'author',\n",
       "       'color', 'brand', 'publisher', 'availability', 'reviews',\n",
       "       'large_image_url', 'availability_type', 'small_image_url',\n",
       "       'editorial_review', 'title', 'model', 'medium_image_url',\n",
       "       'manufacturer', 'editorial_reivew'],\n",
       "      dtype='object')"
      ]
     },
     "execution_count": 4,
     "metadata": {},
     "output_type": "execute_result"
    }
   ],
   "source": [
    "data.columns #these are all the features we have"
   ]
  },
  {
   "cell_type": "code",
   "execution_count": 5,
   "id": "f3eb27f9",
   "metadata": {},
   "outputs": [
    {
     "data": {
      "text/plain": [
       "(183138, 19)"
      ]
     },
     "execution_count": 5,
     "metadata": {},
     "output_type": "execute_result"
    }
   ],
   "source": [
    "data.shape #this is the shape of data"
   ]
  },
  {
   "cell_type": "code",
   "execution_count": 6,
   "id": "15eb1d66",
   "metadata": {},
   "outputs": [
    {
     "name": "stdout",
     "output_type": "stream",
     "text": [
      "Number of data points :  183138 Number of features/variables: 19\n"
     ]
    }
   ],
   "source": [
    "print ('Number of data points : ', data.shape[0], \\\n",
    "       'Number of features/variables:', data.shape[1])"
   ]
  },
  {
   "cell_type": "markdown",
   "id": "e67be087",
   "metadata": {},
   "source": [
    "Of these 19 features, we will be using only 6 features in this workshop.\n",
    "    1. asin  ( Amazon standard identification number)\n",
    "    2. brand ( brand to which the product belongs to )\n",
    "    3. color ( Color information of apparel, it can contain many colors as   a value ex: red and black stripes ) \n",
    "    4. product_type_name (type of the apperal, ex: SHIRT/TSHIRT )\n",
    "    5. medium_image_url  ( url of the image )\n",
    "    6. title (title of the product.)\n",
    "    7. formatted_price (price of the product)"
   ]
  },
  {
   "cell_type": "code",
   "execution_count": 7,
   "id": "ac5ddafa",
   "metadata": {},
   "outputs": [],
   "source": [
    "data = data[['asin', 'brand', 'color', 'medium_image_url', 'product_type_name', 'title', 'formatted_price']]"
   ]
  },
  {
   "cell_type": "code",
   "execution_count": 8,
   "id": "8167572b",
   "metadata": {},
   "outputs": [
    {
     "name": "stdout",
     "output_type": "stream",
     "text": [
      "Number of data points :  183138 Number of features: 7\n"
     ]
    },
    {
     "data": {
      "text/html": [
       "<div>\n",
       "<style scoped>\n",
       "    .dataframe tbody tr th:only-of-type {\n",
       "        vertical-align: middle;\n",
       "    }\n",
       "\n",
       "    .dataframe tbody tr th {\n",
       "        vertical-align: top;\n",
       "    }\n",
       "\n",
       "    .dataframe thead th {\n",
       "        text-align: right;\n",
       "    }\n",
       "</style>\n",
       "<table border=\"1\" class=\"dataframe\">\n",
       "  <thead>\n",
       "    <tr style=\"text-align: right;\">\n",
       "      <th></th>\n",
       "      <th>asin</th>\n",
       "      <th>brand</th>\n",
       "      <th>color</th>\n",
       "      <th>medium_image_url</th>\n",
       "      <th>product_type_name</th>\n",
       "      <th>title</th>\n",
       "      <th>formatted_price</th>\n",
       "    </tr>\n",
       "  </thead>\n",
       "  <tbody>\n",
       "    <tr>\n",
       "      <th>0</th>\n",
       "      <td>B016I2TS4W</td>\n",
       "      <td>FNC7C</td>\n",
       "      <td>None</td>\n",
       "      <td>https://images-na.ssl-images-amazon.com/images...</td>\n",
       "      <td>SHIRT</td>\n",
       "      <td>Minions Como Superheroes Ironman Long Sleeve R...</td>\n",
       "      <td>None</td>\n",
       "    </tr>\n",
       "    <tr>\n",
       "      <th>1</th>\n",
       "      <td>B01N49AI08</td>\n",
       "      <td>FIG Clothing</td>\n",
       "      <td>None</td>\n",
       "      <td>https://images-na.ssl-images-amazon.com/images...</td>\n",
       "      <td>SHIRT</td>\n",
       "      <td>FIG Clothing Womens Izo Tunic</td>\n",
       "      <td>None</td>\n",
       "    </tr>\n",
       "    <tr>\n",
       "      <th>2</th>\n",
       "      <td>B01JDPCOHO</td>\n",
       "      <td>FIG Clothing</td>\n",
       "      <td>None</td>\n",
       "      <td>https://images-na.ssl-images-amazon.com/images...</td>\n",
       "      <td>SHIRT</td>\n",
       "      <td>FIG Clothing Womens Won Top</td>\n",
       "      <td>None</td>\n",
       "    </tr>\n",
       "    <tr>\n",
       "      <th>3</th>\n",
       "      <td>B01N19U5H5</td>\n",
       "      <td>Focal18</td>\n",
       "      <td>None</td>\n",
       "      <td>https://images-na.ssl-images-amazon.com/images...</td>\n",
       "      <td>SHIRT</td>\n",
       "      <td>Focal18 Sailor Collar Bubble Sleeve Blouse Shi...</td>\n",
       "      <td>None</td>\n",
       "    </tr>\n",
       "    <tr>\n",
       "      <th>4</th>\n",
       "      <td>B004GSI2OS</td>\n",
       "      <td>FeatherLite</td>\n",
       "      <td>Onyx Black/ Stone</td>\n",
       "      <td>https://images-na.ssl-images-amazon.com/images...</td>\n",
       "      <td>SHIRT</td>\n",
       "      <td>Featherlite Ladies' Long Sleeve Stain Resistan...</td>\n",
       "      <td>$26.26</td>\n",
       "    </tr>\n",
       "  </tbody>\n",
       "</table>\n",
       "</div>"
      ],
      "text/plain": [
       "         asin         brand              color  \\\n",
       "0  B016I2TS4W         FNC7C               None   \n",
       "1  B01N49AI08  FIG Clothing               None   \n",
       "2  B01JDPCOHO  FIG Clothing               None   \n",
       "3  B01N19U5H5       Focal18               None   \n",
       "4  B004GSI2OS   FeatherLite  Onyx Black/ Stone   \n",
       "\n",
       "                                    medium_image_url product_type_name  \\\n",
       "0  https://images-na.ssl-images-amazon.com/images...             SHIRT   \n",
       "1  https://images-na.ssl-images-amazon.com/images...             SHIRT   \n",
       "2  https://images-na.ssl-images-amazon.com/images...             SHIRT   \n",
       "3  https://images-na.ssl-images-amazon.com/images...             SHIRT   \n",
       "4  https://images-na.ssl-images-amazon.com/images...             SHIRT   \n",
       "\n",
       "                                               title formatted_price  \n",
       "0  Minions Como Superheroes Ironman Long Sleeve R...            None  \n",
       "1                      FIG Clothing Womens Izo Tunic            None  \n",
       "2                        FIG Clothing Womens Won Top            None  \n",
       "3  Focal18 Sailor Collar Bubble Sleeve Blouse Shi...            None  \n",
       "4  Featherlite Ladies' Long Sleeve Stain Resistan...          $26.26  "
      ]
     },
     "execution_count": 8,
     "metadata": {},
     "output_type": "execute_result"
    }
   ],
   "source": [
    "print ('Number of data points : ', data.shape[0], \\\n",
    "       'Number of features:', data.shape[1])\n",
    "data.head() # prints the top rows in the table."
   ]
  },
  {
   "cell_type": "markdown",
   "id": "a1f02571",
   "metadata": {},
   "source": [
    "Lets jump to each feature and understand data better"
   ]
  },
  {
   "cell_type": "markdown",
   "id": "1eeed74b",
   "metadata": {},
   "source": [
    "Basic stats for feature product_type_name"
   ]
  },
  {
   "cell_type": "code",
   "execution_count": 9,
   "id": "68bc300a",
   "metadata": {},
   "outputs": [
    {
     "name": "stdout",
     "output_type": "stream",
     "text": [
      "count     183138\n",
      "unique        72\n",
      "top        SHIRT\n",
      "freq      167794\n",
      "Name: product_type_name, dtype: object\n"
     ]
    }
   ],
   "source": [
    "#We have total 72 unique type of product_type_names\n",
    "print(data['product_type_name'].describe())\n",
    "\n",
    "# 91.62% (167794/183138) of the products are shirts,\n",
    "\n"
   ]
  },
  {
   "cell_type": "code",
   "execution_count": 10,
   "id": "73d5b37a",
   "metadata": {},
   "outputs": [
    {
     "name": "stdout",
     "output_type": "stream",
     "text": [
      "['SHIRT' 'SWEATER' 'APPAREL' 'OUTDOOR_RECREATION_PRODUCT'\n",
      " 'BOOKS_1973_AND_LATER' 'PANTS' 'HAT' 'SPORTING_GOODS' 'DRESS' 'UNDERWEAR'\n",
      " 'SKIRT' 'OUTERWEAR' 'BRA' 'ACCESSORY' 'ART_SUPPLIES' 'SLEEPWEAR'\n",
      " 'ORCA_SHIRT' 'HANDBAG' 'PET_SUPPLIES' 'SHOES' 'KITCHEN' 'ADULT_COSTUME'\n",
      " 'HOME_BED_AND_BATH' 'MISC_OTHER' 'BLAZER' 'HEALTH_PERSONAL_CARE'\n",
      " 'TOYS_AND_GAMES' 'SWIMWEAR' 'CONSUMER_ELECTRONICS' 'SHORTS' 'HOME'\n",
      " 'AUTO_PART' 'OFFICE_PRODUCTS' 'ETHNIC_WEAR' 'BEAUTY'\n",
      " 'INSTRUMENT_PARTS_AND_ACCESSORIES' 'POWERSPORTS_PROTECTIVE_GEAR' 'SHIRTS'\n",
      " 'ABIS_APPAREL' 'AUTO_ACCESSORY' 'NONAPPARELMISC' 'TOOLS' 'BABY_PRODUCT'\n",
      " 'SOCKSHOSIERY' 'POWERSPORTS_RIDING_SHIRT' 'EYEWEAR' 'SUIT'\n",
      " 'OUTDOOR_LIVING' 'POWERSPORTS_RIDING_JACKET' 'HARDWARE' 'SAFETY_SUPPLY'\n",
      " 'ABIS_DVD' 'VIDEO_DVD' 'GOLF_CLUB' 'MUSIC_POPULAR_VINYL'\n",
      " 'HOME_FURNITURE_AND_DECOR' 'TABLET_COMPUTER' 'GUILD_ACCESSORIES'\n",
      " 'ABIS_SPORTS' 'ART_AND_CRAFT_SUPPLY' 'BAG' 'MECHANICAL_COMPONENTS'\n",
      " 'SOUND_AND_RECORDING_EQUIPMENT' 'COMPUTER_COMPONENT' 'JEWELRY'\n",
      " 'BUILDING_MATERIAL' 'LUGGAGE' 'BABY_COSTUME' 'POWERSPORTS_VEHICLE_PART'\n",
      " 'PROFESSIONAL_HEALTHCARE' 'SEEDS_AND_PLANTS' 'WIRELESS_ACCESSORY']\n"
     ]
    }
   ],
   "source": [
    "print(data['product_type_name'].unique())"
   ]
  },
  {
   "cell_type": "code",
   "execution_count": 11,
   "id": "8c153d56",
   "metadata": {},
   "outputs": [
    {
     "name": "stdout",
     "output_type": "stream",
     "text": [
      "[('SHIRT', 167794), ('APPAREL', 3549), ('BOOKS_1973_AND_LATER', 3336), ('DRESS', 1584), ('SPORTING_GOODS', 1281), ('SWEATER', 837), ('OUTERWEAR', 796), ('OUTDOOR_RECREATION_PRODUCT', 729), ('ACCESSORY', 636), ('UNDERWEAR', 425)]\n"
     ]
    }
   ],
   "source": [
    "product_list=Counter(data['product_type_name'])\n",
    "print(product_list.most_common(10))"
   ]
  },
  {
   "cell_type": "markdown",
   "id": "4658ed16",
   "metadata": {},
   "source": [
    "Basic stats for feature brand\n"
   ]
  },
  {
   "cell_type": "code",
   "execution_count": 12,
   "id": "f85d708b",
   "metadata": {},
   "outputs": [
    {
     "name": "stdout",
     "output_type": "stream",
     "text": [
      "count     182987\n",
      "unique     10577\n",
      "top         Zago\n",
      "freq         223\n",
      "Name: brand, dtype: object\n"
     ]
    }
   ],
   "source": [
    "# there are 10577 unique brands\n",
    "print(data['brand'].describe())\n",
    "\n",
    "# 183138 - 182987 = 151 missing values"
   ]
  },
  {
   "cell_type": "code",
   "execution_count": 13,
   "id": "b358e86c",
   "metadata": {},
   "outputs": [
    {
     "data": {
      "text/plain": [
       "[('Zago', 223),\n",
       " ('XQS', 222),\n",
       " ('Yayun', 215),\n",
       " ('YUNY', 198),\n",
       " ('XiaoTianXin-women clothes', 193),\n",
       " ('Generic', 192),\n",
       " ('Boohoo', 190),\n",
       " ('Alion', 188),\n",
       " ('Abetteric', 187),\n",
       " ('TheMogan', 187)]"
      ]
     },
     "execution_count": 13,
     "metadata": {},
     "output_type": "execute_result"
    }
   ],
   "source": [
    "brand_count = Counter(list(data['brand']))\n",
    "brand_count.most_common(10)"
   ]
  },
  {
   "cell_type": "markdown",
   "id": "69b0165b",
   "metadata": {},
   "source": [
    "Basic feature for feature color"
   ]
  },
  {
   "cell_type": "code",
   "execution_count": 14,
   "id": "b291d1e4",
   "metadata": {},
   "outputs": [
    {
     "name": "stdout",
     "output_type": "stream",
     "text": [
      "count     64956\n",
      "unique     7380\n",
      "top       Black\n",
      "freq      13207\n",
      "Name: color, dtype: object\n"
     ]
    }
   ],
   "source": [
    "print(data['color'].describe())\n",
    "\n",
    "\n",
    "# we have 7380 unique colors\n",
    "# 7.2% of products are black in color\n",
    "# 64956 of 183138 products have brand information. That's approx 35.4%."
   ]
  },
  {
   "cell_type": "code",
   "execution_count": 15,
   "id": "478e02ca",
   "metadata": {},
   "outputs": [
    {
     "data": {
      "text/plain": [
       "[(None, 118182),\n",
       " ('Black', 13207),\n",
       " ('White', 8616),\n",
       " ('Blue', 3570),\n",
       " ('Red', 2289),\n",
       " ('Pink', 1842),\n",
       " ('Grey', 1499),\n",
       " ('*', 1388),\n",
       " ('Green', 1258),\n",
       " ('Multi', 1203)]"
      ]
     },
     "execution_count": 15,
     "metadata": {},
     "output_type": "execute_result"
    }
   ],
   "source": [
    "color_count = Counter(list(data['color']))\n",
    "color_count.most_common(10)"
   ]
  },
  {
   "cell_type": "markdown",
   "id": "c529a5b3",
   "metadata": {},
   "source": [
    "Basic stats for feature:formatted price\n"
   ]
  },
  {
   "cell_type": "code",
   "execution_count": 16,
   "id": "e62a1349",
   "metadata": {},
   "outputs": [
    {
     "name": "stdout",
     "output_type": "stream",
     "text": [
      "count      28395\n",
      "unique      3135\n",
      "top       $19.99\n",
      "freq         945\n",
      "Name: formatted_price, dtype: object\n"
     ]
    }
   ],
   "source": [
    " \n",
    "print(data['formatted_price'].describe())\n",
    "\n",
    "# Only 28,395 (15.5% of whole data) products with price information"
   ]
  },
  {
   "cell_type": "code",
   "execution_count": 17,
   "id": "4ac092b3",
   "metadata": {},
   "outputs": [
    {
     "data": {
      "text/plain": [
       "[(None, 154743),\n",
       " ('$19.99', 945),\n",
       " ('$9.99', 749),\n",
       " ('$9.50', 601),\n",
       " ('$14.99', 472),\n",
       " ('$7.50', 463),\n",
       " ('$24.99', 414),\n",
       " ('$29.99', 370),\n",
       " ('$8.99', 343),\n",
       " ('$9.01', 336)]"
      ]
     },
     "execution_count": 17,
     "metadata": {},
     "output_type": "execute_result"
    }
   ],
   "source": [
    "price_count = Counter(list(data['formatted_price']))\n",
    "price_count.most_common(10)"
   ]
  },
  {
   "cell_type": "markdown",
   "id": "f519b9d5",
   "metadata": {},
   "source": [
    "Basic stats for feature: Title"
   ]
  },
  {
   "cell_type": "code",
   "execution_count": 18,
   "id": "d6997221",
   "metadata": {
    "scrolled": true
   },
   "outputs": [
    {
     "name": "stdout",
     "output_type": "stream",
     "text": [
      "count                                                183138\n",
      "unique                                               175985\n",
      "top       Nakoda Cotton Self Print Straight Kurti For Women\n",
      "freq                                                     77\n",
      "Name: title, dtype: object\n"
     ]
    }
   ],
   "source": [
    "print(data['title'].describe())\n",
    "\n",
    "# All of the products have a title. \n",
    "# Titles are fairly descriptive of what the product is. \n",
    "# We use titles extensively in this workshop \n",
    "# as they are short and informative.\n",
    "\n"
   ]
  },
  {
   "cell_type": "code",
   "execution_count": 19,
   "id": "25b25a19",
   "metadata": {},
   "outputs": [
    {
     "data": {
      "text/plain": [
       "7153"
      ]
     },
     "execution_count": 19,
     "metadata": {},
     "output_type": "execute_result"
    }
   ],
   "source": [
    "# find number of products that have duplicate titles.\n",
    "# we have 2325 products which have same title but different color\n",
    "\n",
    "data['title'].duplicated().sum()\n"
   ]
  },
  {
   "cell_type": "code",
   "execution_count": 24,
   "id": "f114e6fc",
   "metadata": {},
   "outputs": [
    {
     "name": "stdout",
     "output_type": "stream",
     "text": [
      "Number of data points After eliminating price=NULL : 28395\n"
     ]
    }
   ],
   "source": [
    "# consider products which have price information\n",
    "# data['formatted_price'].isnull() => gives the information \n",
    "#about the dataframe row's which have null values price == None|Null\n",
    "data = data.loc[~data['formatted_price'].isnull()]\n",
    "print('Number of data points After eliminating price=NULL :', data.shape[0])"
   ]
  },
  {
   "cell_type": "code",
   "execution_count": 25,
   "id": "cff97119",
   "metadata": {},
   "outputs": [
    {
     "name": "stdout",
     "output_type": "stream",
     "text": [
      "Number of data points After eliminating color=NULL : 28385\n"
     ]
    }
   ],
   "source": [
    "# consider products which have color information\n",
    "# data['color'].isnull() => gives the information about the dataframe row's which have null values price == None|Null\n",
    "data =data.loc[~data['color'].isnull()]\n",
    "print('Number of data points After eliminating color=NULL :', data.shape[0])"
   ]
  },
  {
   "cell_type": "markdown",
   "id": "14952d95",
   "metadata": {},
   "source": [
    "We brought down the number of data points from 183K to 28K.\n"
   ]
  },
  {
   "cell_type": "markdown",
   "id": "22a27206",
   "metadata": {},
   "source": [
    "# DATA CLEANING"
   ]
  },
  {
   "cell_type": "code",
   "execution_count": 33,
   "id": "7ee29659",
   "metadata": {},
   "outputs": [],
   "source": [
    "#Title column for us is very important\n",
    "#we will remove all the title with less than 4 words\n",
    "\n",
    "data=data[data['title'].apply(lambda x: len(x.split())>4)]"
   ]
  },
  {
   "cell_type": "code",
   "execution_count": 34,
   "id": "a291663f",
   "metadata": {},
   "outputs": [
    {
     "data": {
      "text/plain": [
       "(27949, 7)"
      ]
     },
     "execution_count": 34,
     "metadata": {},
     "output_type": "execute_result"
    }
   ],
   "source": [
    "data.shape #now we have 27949 rows"
   ]
  },
  {
   "cell_type": "code",
   "execution_count": 36,
   "id": "e8cf0b61",
   "metadata": {},
   "outputs": [],
   "source": [
    "#now let's sort the data based on title(alphabetical order)\n",
    "data.sort_values(\"title\", inplace=True,ascending=False)"
   ]
  },
  {
   "cell_type": "code",
   "execution_count": 37,
   "id": "2f8ed7f6",
   "metadata": {},
   "outputs": [
    {
     "data": {
      "text/plain": [
       "(27949, 7)"
      ]
     },
     "execution_count": 37,
     "metadata": {},
     "output_type": "execute_result"
    }
   ],
   "source": [
    "data.shape"
   ]
  },
  {
   "cell_type": "code",
   "execution_count": 45,
   "id": "ba2d3798",
   "metadata": {},
   "outputs": [
    {
     "data": {
      "text/plain": [
       "(27949, 7)"
      ]
     },
     "execution_count": 45,
     "metadata": {},
     "output_type": "execute_result"
    }
   ],
   "source": [
    "data.shape"
   ]
  },
  {
   "cell_type": "code",
   "execution_count": 23,
   "id": "29e8ee92",
   "metadata": {},
   "outputs": [],
   "source": [
    "#data.to_pickle('151k_apperal_data_new')"
   ]
  },
  {
   "cell_type": "code",
   "execution_count": 39,
   "id": "8b8e59ee",
   "metadata": {},
   "outputs": [
    {
     "name": "stderr",
     "output_type": "stream",
     "text": [
      "[nltk_data] Downloading package stopwords to\n",
      "[nltk_data]     /Users/nisheshgogia/nltk_data...\n",
      "[nltk_data]   Unzipping corpora/stopwords.zip.\n"
     ]
    },
    {
     "data": {
      "text/plain": [
       "True"
      ]
     },
     "execution_count": 39,
     "metadata": {},
     "output_type": "execute_result"
    }
   ],
   "source": [
    "import warnings\n",
    "warnings.filterwarnings(\"ignore\")\n",
    "import nltk\n",
    "nltk.download(\"stopwords\")\n"
   ]
  },
  {
   "cell_type": "code",
   "execution_count": 46,
   "id": "926a3c9e",
   "metadata": {},
   "outputs": [],
   "source": [
    "# we use the list of stop words that are downloaded from nltk lib.\n",
    "stop_words = set(stopwords.words('english'))\n",
    "#print ('list of stop words:', stop_words)\n",
    "\n",
    "def nlp_preprocessing(total_text, index, column):\n",
    "    if type(total_text) is not int:\n",
    "        string = \"\"\n",
    "        for words in total_text.split():\n",
    "            # remove the special chars in review like '\"#$@!%^&*()_+-~?>< etc.\n",
    "            word = (\"\".join(e for e in words if e.isalnum()))\n",
    "            # Conver all letters to lower-case\n",
    "            word = word.lower()\n",
    "            # stop-word removal\n",
    "            if not word in stop_words:\n",
    "                string += word + \" \"\n",
    "        data[column][index] = string"
   ]
  },
  {
   "cell_type": "code",
   "execution_count": 40,
   "id": "46b77669",
   "metadata": {},
   "outputs": [
    {
     "data": {
      "text/html": [
       "<div>\n",
       "<style scoped>\n",
       "    .dataframe tbody tr th:only-of-type {\n",
       "        vertical-align: middle;\n",
       "    }\n",
       "\n",
       "    .dataframe tbody tr th {\n",
       "        vertical-align: top;\n",
       "    }\n",
       "\n",
       "    .dataframe thead th {\n",
       "        text-align: right;\n",
       "    }\n",
       "</style>\n",
       "<table border=\"1\" class=\"dataframe\">\n",
       "  <thead>\n",
       "    <tr style=\"text-align: right;\">\n",
       "      <th></th>\n",
       "      <th>asin</th>\n",
       "      <th>brand</th>\n",
       "      <th>color</th>\n",
       "      <th>medium_image_url</th>\n",
       "      <th>product_type_name</th>\n",
       "      <th>title</th>\n",
       "      <th>formatted_price</th>\n",
       "    </tr>\n",
       "  </thead>\n",
       "  <tbody>\n",
       "    <tr>\n",
       "      <th>61973</th>\n",
       "      <td>B06Y1KZ2WB</td>\n",
       "      <td>Éclair</td>\n",
       "      <td>Black/Pink</td>\n",
       "      <td>https://images-na.ssl-images-amazon.com/images...</td>\n",
       "      <td>SHIRT</td>\n",
       "      <td>Éclair Women's Printed Thin Strap Blouse Black...</td>\n",
       "      <td>$24.99</td>\n",
       "    </tr>\n",
       "    <tr>\n",
       "      <th>133820</th>\n",
       "      <td>B010RV33VE</td>\n",
       "      <td>xiaoming</td>\n",
       "      <td>Pink</td>\n",
       "      <td>https://images-na.ssl-images-amazon.com/images...</td>\n",
       "      <td>SHIRT</td>\n",
       "      <td>xiaoming Womens Sleeveless Loose Long T-shirts...</td>\n",
       "      <td>$18.19</td>\n",
       "    </tr>\n",
       "    <tr>\n",
       "      <th>81461</th>\n",
       "      <td>B01DDSDLNS</td>\n",
       "      <td>xiaoming</td>\n",
       "      <td>White</td>\n",
       "      <td>https://images-na.ssl-images-amazon.com/images...</td>\n",
       "      <td>SHIRT</td>\n",
       "      <td>xiaoming Women's White Long Sleeve Single Brea...</td>\n",
       "      <td>$21.58</td>\n",
       "    </tr>\n",
       "    <tr>\n",
       "      <th>75995</th>\n",
       "      <td>B00X5LYO9Y</td>\n",
       "      <td>xiaoming</td>\n",
       "      <td>Red Anchors</td>\n",
       "      <td>https://images-na.ssl-images-amazon.com/images...</td>\n",
       "      <td>SHIRT</td>\n",
       "      <td>xiaoming Stripes Tank Patch/Bear Sleeve Anchor...</td>\n",
       "      <td>$15.91</td>\n",
       "    </tr>\n",
       "    <tr>\n",
       "      <th>151570</th>\n",
       "      <td>B00WPJG35K</td>\n",
       "      <td>xiaoming</td>\n",
       "      <td>White</td>\n",
       "      <td>https://images-na.ssl-images-amazon.com/images...</td>\n",
       "      <td>SHIRT</td>\n",
       "      <td>xiaoming Sleeve Sheer Loose Tassel Kimono Woma...</td>\n",
       "      <td>$14.32</td>\n",
       "    </tr>\n",
       "  </tbody>\n",
       "</table>\n",
       "</div>"
      ],
      "text/plain": [
       "              asin     brand        color  \\\n",
       "61973   B06Y1KZ2WB    Éclair   Black/Pink   \n",
       "133820  B010RV33VE  xiaoming         Pink   \n",
       "81461   B01DDSDLNS  xiaoming        White   \n",
       "75995   B00X5LYO9Y  xiaoming  Red Anchors   \n",
       "151570  B00WPJG35K  xiaoming        White   \n",
       "\n",
       "                                         medium_image_url product_type_name  \\\n",
       "61973   https://images-na.ssl-images-amazon.com/images...             SHIRT   \n",
       "133820  https://images-na.ssl-images-amazon.com/images...             SHIRT   \n",
       "81461   https://images-na.ssl-images-amazon.com/images...             SHIRT   \n",
       "75995   https://images-na.ssl-images-amazon.com/images...             SHIRT   \n",
       "151570  https://images-na.ssl-images-amazon.com/images...             SHIRT   \n",
       "\n",
       "                                                    title formatted_price  \n",
       "61973   Éclair Women's Printed Thin Strap Blouse Black...          $24.99  \n",
       "133820  xiaoming Womens Sleeveless Loose Long T-shirts...          $18.19  \n",
       "81461   xiaoming Women's White Long Sleeve Single Brea...          $21.58  \n",
       "75995   xiaoming Stripes Tank Patch/Bear Sleeve Anchor...          $15.91  \n",
       "151570  xiaoming Sleeve Sheer Loose Tassel Kimono Woma...          $14.32  "
      ]
     },
     "execution_count": 40,
     "metadata": {},
     "output_type": "execute_result"
    }
   ],
   "source": [
    "data.head()"
   ]
  },
  {
   "cell_type": "code",
   "execution_count": 41,
   "id": "89f93370",
   "metadata": {},
   "outputs": [
    {
     "name": "stdout",
     "output_type": "stream",
     "text": [
      "argu\n",
      "fish\n"
     ]
    }
   ],
   "source": [
    "from nltk.stem.porter import *\n",
    "stemmer = PorterStemmer()\n",
    "print(stemmer.stem('arguing'))\n",
    "print(stemmer.stem('fishing'))\n",
    "\n",
    "\n",
    "# We tried using stemming on our titles and it didnot work very well. \n",
    "\n"
   ]
  },
  {
   "cell_type": "code",
   "execution_count": 51,
   "id": "d3c853d2",
   "metadata": {},
   "outputs": [],
   "source": [
    "def text_to_vector(text):\n",
    "    word = re.compile(r'\\w+')\n",
    "    words = word.findall(text)\n",
    "    # words stores list of all words in given string, you can try 'words = text.split()' this will also gives same result\n",
    "    return Counter(words) # Counter counts the occurence of each word in list, it returns dict type object {word1:count}\n",
    "\n",
    "\n",
    "\n",
    "def get_result(doc_id, content_a, content_b, url, model):\n",
    "    text1 = content_a\n",
    "    text2 = content_b\n",
    "    \n",
    "    # vector1 = dict{word11:#count, word12:#count, etc.}\n",
    "    vector1 = text_to_vector(text1)\n",
    "\n",
    "    # vector1 = dict{word21:#count, word22:#count, etc.}\n",
    "    vector2 = text_to_vector(text2)\n",
    "\n"
   ]
  },
  {
   "cell_type": "code",
   "execution_count": 59,
   "id": "e0ab983e",
   "metadata": {
    "scrolled": true
   },
   "outputs": [
    {
     "data": {
      "text/plain": [
       "(27949, 11681)"
      ]
     },
     "execution_count": 59,
     "metadata": {},
     "output_type": "execute_result"
    }
   ],
   "source": [
    "from sklearn.feature_extraction.text import CountVectorizer\n",
    "title_vectorizer = CountVectorizer()\n",
    "title_features   = title_vectorizer.fit_transform(data['title'])\n",
    "title_features.get_shape() # get number of rows and columns in feature matrix.\n",
    "# title_features.shape = #data_points * #words_in_corpus\n",
    "# CountVectorizer().fit_transform(corpus) returns \n",
    "# the a sparase matrix of dimensions #data_points * #words_in_corpus\n",
    "\n",
    "# What is a sparse vector?\n",
    "\n",
    "# title_features[doc_id, index_of_word_in_corpus] = number of times the word occured in that doc\n",
    "\n",
    "\n"
   ]
  },
  {
   "cell_type": "code",
   "execution_count": 66,
   "id": "afdb4fe7",
   "metadata": {},
   "outputs": [
    {
     "data": {
      "text/plain": [
       "<1x11681 sparse matrix of type '<class 'numpy.int64'>'\n",
       "\twith 11 stored elements in Compressed Sparse Row format>"
      ]
     },
     "execution_count": 66,
     "metadata": {},
     "output_type": "execute_result"
    }
   ],
   "source": [
    "title_features[932]"
   ]
  },
  {
   "cell_type": "code",
   "execution_count": 74,
   "id": "8fb8cc91",
   "metadata": {},
   "outputs": [
    {
     "data": {
      "text/plain": [
       "'B072P6B7XY'"
      ]
     },
     "execution_count": 74,
     "metadata": {},
     "output_type": "execute_result"
    }
   ],
   "source": [
    "data.iloc[932]['asin']"
   ]
  },
  {
   "cell_type": "code",
   "execution_count": 64,
   "id": "95195ab9",
   "metadata": {},
   "outputs": [
    {
     "name": "stdout",
     "output_type": "stream",
     "text": [
      "ASIN : B072P6B7XY\n",
      "Brand: Xhilaration\n",
      "Title: Xhilaration Women's Flowy Peasant Tie Neck Blouse, Medium, Teal/Red Floral\n",
      "Euclidean similarity with the query point : 0.0\n",
      "============================================================\n",
      "ASIN : B06Y6G64R4\n",
      "Brand: Xhilaration\n",
      "Title: Xhilaration Women's Floral Blouse, Ivory Spring, Medium\n",
      "Euclidean similarity with the query point : 2.8284271247461903\n",
      "============================================================\n",
      "ASIN : B06ZZ2FRSB\n",
      "Brand: Xhilaration\n",
      "Title: Xhilaration Women's Blouse, Black, Medium\n",
      "Euclidean similarity with the query point : 2.8284271247461903\n",
      "============================================================\n",
      "ASIN : B01KN10R4O\n",
      "Brand: tommy hilfinger\n",
      "Title: Tommy Hilfiger Women's V-neck Tunic Blouse - Red/ Medium\n",
      "Euclidean similarity with the query point : 3.0\n",
      "============================================================\n",
      "ASIN : B00JFCD5B0\n",
      "Brand: Three Cranes Gallery\n",
      "Title: TCG Women's Tie-Dye V-Neck Blouse - Red-Multi\n",
      "Euclidean similarity with the query point : 3.0\n",
      "============================================================\n",
      "ASIN : B07289QJGX\n",
      "Brand: Harlowe & Graham\n",
      "Title: Harlowe & Graham Women's Medium Split Neck Blouse Red M\n",
      "Euclidean similarity with the query point : 3.0\n",
      "============================================================\n",
      "ASIN : B071DFBF4X\n",
      "Brand: Mossimo\n",
      "Title: Mossimo Women's Tie Front Blouse, White, Medium\n",
      "Euclidean similarity with the query point : 3.1622776601683795\n",
      "============================================================\n",
      "ASIN : B06Y1W9SSS\n",
      "Brand: Xhilaration\n",
      "Title: Women's Floral Skirted Blouse, Black, X-Large Xhilaration\n",
      "Euclidean similarity with the query point : 3.1622776601683795\n",
      "============================================================\n",
      "ASIN : B01NAR8CE0\n",
      "Brand: Sactuary\n",
      "Title: Sanctuary Women's Scarlet Blouse (Medium)\n",
      "Euclidean similarity with the query point : 3.1622776601683795\n",
      "============================================================\n",
      "ASIN : B0758WDS6H\n",
      "Brand: Pleione\n",
      "Title: Pleione Women's Medium Short Sleeve V-Neck Blouse\n",
      "Euclidean similarity with the query point : 3.1622776601683795\n",
      "============================================================\n"
     ]
    }
   ],
   "source": [
    "def bag_of_words_model(doc_id, num_results):\n",
    "    # doc_id: apparel's id in given corpus\n",
    "    \n",
    "    # pairwise_dist will store the distance from given input apparel to all remaining apparels\n",
    "    # the metric we used here is cosine, the coside distance is mesured as K(X, Y) = <X, Y> / (||X||*||Y||)\n",
    "    # http://scikit-learn.org/stable/modules/metrics.html#cosine-similarity\n",
    "    pairwise_dist = pairwise_distances(title_features,title_features[doc_id])\n",
    "    \n",
    "    # np.argsort will return indices of the smallest distances\n",
    "    indices = np.argsort(pairwise_dist.flatten())[0:num_results]\n",
    "    #pdists will store the smallest distances\n",
    "    pdists  = np.sort(pairwise_dist.flatten())[0:num_results]\n",
    "\n",
    "    #data frame indices of the 9 smallest distace's\n",
    "    df_indices = list(data.index[indices])\n",
    "    \n",
    "    for i in range(0,len(indices)):\n",
    "        # we will pass 1. doc_id, 2. title1, 3. title2, url, model\n",
    "        get_result(indices[i],data['title'].loc[df_indices[0]], data['title'].loc[df_indices[i]], data['medium_image_url'].loc[df_indices[i]], 'bag_of_words')\n",
    "        print('ASIN :',data['asin'].loc[df_indices[i]])\n",
    "        print ('Brand:', data['brand'].loc[df_indices[i]])\n",
    "        print ('Title:', data['title'].loc[df_indices[i]])\n",
    "        print ('Euclidean similarity with the query point :', pdists[i])\n",
    "        print('='*60)\n",
    "\n",
    "#call the bag-of-words model for a product to get similar products.\n",
    "bag_of_words_model(932, 10) \n",
    "\n",
    "\n",
    "#try 12566\n",
    "#try 931"
   ]
  },
  {
   "cell_type": "code",
   "execution_count": 53,
   "id": "d9cc5d6d",
   "metadata": {},
   "outputs": [
    {
     "name": "stdout",
     "output_type": "stream",
     "text": [
      "ASIN : B072WMYTMM\n",
      "Brand: Merona\n",
      "Title: Merona Women's Crepe Shell Cap Sleeve Blouse / Dressy Top (X-Small, Orange Spark)\n",
      "Euclidean similarity with the query image : 0.0\n",
      "============================================================\n",
      "ASIN : B06ZZBWG2N\n",
      "Brand: Merona\n",
      "Title: Merona Women's Blouse, Navy, X-Small\n",
      "Euclidean similarity with the query image : 3.0\n",
      "============================================================\n",
      "ASIN : B06ZYH5VXR\n",
      "Brand: Merona\n",
      "Title: Merona Women's Blouse, Shell, XXL\n",
      "Euclidean similarity with the query image : 3.0\n",
      "============================================================\n",
      "ASIN : B00U7PRVEG\n",
      "Brand: Wilson\n",
      "Title: Women's Flirty Cap Sleeve Top White X-Small\n",
      "Euclidean similarity with the query image : 3.0\n",
      "============================================================\n",
      "ASIN : B00U7PRWKE\n",
      "Brand: Wilson\n",
      "Title: Women's Flirty Cap Sleeve Top White Small\n",
      "Euclidean similarity with the query image : 3.0\n",
      "============================================================\n",
      "ASIN : B072M78G9W\n",
      "Brand: TBONTB\n",
      "Title: 3/4 Sleeve Tunic Top for Women Small Orange\n",
      "Euclidean similarity with the query image : 3.0\n",
      "============================================================\n",
      "ASIN : B014MYTJWE\n",
      "Brand: Elementz\n",
      "Title: Elementz Top Women Cap Sleeve Size S\n",
      "Euclidean similarity with the query image : 3.1622776601683795\n",
      "============================================================\n",
      "ASIN : B071ZS4VH4\n",
      "Brand: TBONTB\n",
      "Title: 3/4 Sleeve Tunic Top for Women Small Red\n",
      "Euclidean similarity with the query image : 3.3166247903554\n",
      "============================================================\n",
      "ASIN : B071ZS55SK\n",
      "Brand: TBONTB\n",
      "Title: 3/4 Sleeve Tunic Top for Women Small Raspberry\n",
      "Euclidean similarity with the query image : 3.3166247903554\n",
      "============================================================\n",
      "ASIN : B072JMC5PD\n",
      "Brand: TBONTB\n",
      "Title: 3/4 Sleeve Tunic Top for Women Small Pink\n",
      "Euclidean similarity with the query image : 3.3166247903554\n",
      "============================================================\n",
      "ASIN : B01NCMRU6E\n",
      "Brand: Masked Brand\n",
      "Title: Women's Popover Ebony Top by Merona (X-Small)\n",
      "Euclidean similarity with the query image : 3.3166247903554\n",
      "============================================================\n",
      "ASIN : B071LTQV1R\n",
      "Brand: Mossimo\n",
      "Title: Mossimo Women's Long Sleeve Knit Top Blouse, Grey, Small\n",
      "Euclidean similarity with the query image : 3.3166247903554\n",
      "============================================================\n",
      "ASIN : B06Y674B25\n",
      "Brand: Xhilaration\n",
      "Title: Xhilaration Women's Bell Sleeve Blouse, X-Small, Ivory\n",
      "Euclidean similarity with the query image : 3.3166247903554\n",
      "============================================================\n",
      "ASIN : B071J832NL\n",
      "Brand: Mossimo\n",
      "Title: Mossimo Women's Long Sleeve Knit Top Blouse, Black, Small\n",
      "Euclidean similarity with the query image : 3.3166247903554\n",
      "============================================================\n",
      "ASIN : B07173L752\n",
      "Brand: Mossimo\n",
      "Title: Mossimo Women's Long Sleeve Top, Black, X-Small\n",
      "Euclidean similarity with the query image : 3.3166247903554\n",
      "============================================================\n",
      "ASIN : B074ZKM7H9\n",
      "Brand: Chloe K.\n",
      "Title: Chloe K Women's Small Sheer Mesh Dolman Sleeve Blouse Orange S\n",
      "Euclidean similarity with the query image : 3.3166247903554\n",
      "============================================================\n",
      "ASIN : B06ZXX6HMR\n",
      "Brand: Merona\n",
      "Title: Merona Women's Blouse, Navy, XXL\n",
      "Euclidean similarity with the query image : 3.3166247903554\n",
      "============================================================\n",
      "ASIN : B06ZYZLB36\n",
      "Brand: Merona\n",
      "Title: Merona Women's 3/4 Sleeve Boatneck Top, X-Small, Burgundy/White Stripe\n",
      "Euclidean similarity with the query image : 3.3166247903554\n",
      "============================================================\n",
      "ASIN : B072M78BBX\n",
      "Brand: TBONTB\n",
      "Title: 3/4 Sleeve Tunic Top for Women Small Coral\n",
      "Euclidean similarity with the query image : 3.3166247903554\n",
      "============================================================\n",
      "ASIN : B071R8VZJV\n",
      "Brand: Merona\n",
      "Title: Merona Women's 3/4 Sleeve Boatneck Top, Small, Burgundy/White Stripe\n",
      "Euclidean similarity with the query image : 3.3166247903554\n",
      "============================================================\n"
     ]
    }
   ],
   "source": [
    "bag_of_words_model(12566, 20)"
   ]
  },
  {
   "cell_type": "code",
   "execution_count": 54,
   "id": "1f0c511c",
   "metadata": {},
   "outputs": [],
   "source": [
    "tfidf_title_vectorizer = TfidfVectorizer(min_df = 0)\n",
    "tfidf_title_features = tfidf_title_vectorizer.fit_transform(data['title'])\n",
    "# tfidf_title_features.shape = #data_points * #words_in_corpus\n",
    "# CountVectorizer().fit_transform(courpus) returns the a sparase matrix of dimensions #data_points * #words_in_corpus\n",
    "# tfidf_title_features[doc_id, index_of_word_in_corpus] = tfidf values of the word in given doc"
   ]
  },
  {
   "cell_type": "code",
   "execution_count": 75,
   "id": "8ee01f98",
   "metadata": {},
   "outputs": [
    {
     "name": "stdout",
     "output_type": "stream",
     "text": [
      "ASIN : B072P6B7XY\n",
      "BRAND : Xhilaration\n",
      "Eucliden distance from the given image : 0.0\n",
      "=============================================================================================================================\n",
      "ASIN : B06ZZ2FRSB\n",
      "BRAND : Xhilaration\n",
      "Eucliden distance from the given image : 0.9996931987946983\n",
      "=============================================================================================================================\n",
      "ASIN : B06Y6L5S62\n",
      "BRAND : Xhilaration\n",
      "Eucliden distance from the given image : 1.013917712433803\n",
      "=============================================================================================================================\n",
      "ASIN : B071Y78HWN\n",
      "BRAND : Xhilaration\n",
      "Eucliden distance from the given image : 1.0407540961795698\n",
      "=============================================================================================================================\n",
      "ASIN : B06Y6G64R4\n",
      "BRAND : Xhilaration\n",
      "Eucliden distance from the given image : 1.0454883205390004\n",
      "=============================================================================================================================\n",
      "ASIN : B071CTHVTV\n",
      "BRAND : Xhilaration\n",
      "Eucliden distance from the given image : 1.0795115713015582\n",
      "=============================================================================================================================\n",
      "ASIN : B071XT7PGN\n",
      "BRAND : Xhilaration\n",
      "Eucliden distance from the given image : 1.103901317450035\n",
      "=============================================================================================================================\n",
      "ASIN : B06XBS17RZ\n",
      "BRAND : Xhilaration\n",
      "Eucliden distance from the given image : 1.1375840485690059\n",
      "=============================================================================================================================\n",
      "ASIN : B06Y1W9SSS\n",
      "BRAND : Xhilaration\n",
      "Eucliden distance from the given image : 1.1379420541406498\n",
      "=============================================================================================================================\n",
      "ASIN : B072XLQV6Q\n",
      "BRAND : Love and Liberty\n",
      "Eucliden distance from the given image : 1.1389453502133173\n",
      "=============================================================================================================================\n"
     ]
    }
   ],
   "source": [
    "def tfidf_model(doc_id, num_results):\n",
    "    # doc_id: apparel's id in given corpus\n",
    "    \n",
    "    # pairwise_dist will store the distance from given input apparel to all remaining apparels\n",
    "    # the metric we used here is cosine, the coside distance is mesured as K(X, Y) = <X, Y> / (||X||*||Y||)\n",
    "    # http://scikit-learn.org/stable/modules/metrics.html#cosine-similarity\n",
    "    pairwise_dist = pairwise_distances(tfidf_title_features,tfidf_title_features[doc_id])\n",
    "\n",
    "    # np.argsort will return indices of 9 smallest distances\n",
    "    indices = np.argsort(pairwise_dist.flatten())[0:num_results]\n",
    "    #pdists will store the 9 smallest distances\n",
    "    pdists  = np.sort(pairwise_dist.flatten())[0:num_results]\n",
    "\n",
    "    #data frame indices of the 9 smallest distace's\n",
    "    df_indices = list(data.index[indices])\n",
    "\n",
    "    for i in range(0,len(indices)):\n",
    "        # we will pass 1. doc_id, 2. title1, 3. title2, url, model\n",
    "        get_result(indices[i], data['title'].loc[df_indices[0]], data['title'].loc[df_indices[i]], data['medium_image_url'].loc[df_indices[i]], 'tfidf')\n",
    "        print('ASIN :',data['asin'].loc[df_indices[i]])\n",
    "        print('BRAND :',data['brand'].loc[df_indices[i]])\n",
    "        print ('Eucliden distance from the given image :', pdists[i])\n",
    "        print('='*125)\n",
    "tfidf_model(932, 10)\n"
   ]
  },
  {
   "cell_type": "code",
   "execution_count": 86,
   "id": "9badc88d",
   "metadata": {},
   "outputs": [],
   "source": [
    "import pickle\n",
    "with open('word2vec_model', 'rb') as handle:\n",
    "    model = pickle.load(handle)"
   ]
  },
  {
   "cell_type": "code",
   "execution_count": null,
   "id": "61a8d085",
   "metadata": {},
   "outputs": [],
   "source": [
    "def get_word_vec(sentence, doc_id, m_name):\n",
    "    # sentence : title of the apparel\n",
    "    # doc_id: document id in our corpus\n",
    "    # m_name: model information it will take two values\n",
    "        # if  m_name == 'avg', we will append the model[i], w2v representation of word i\n",
    "        # if m_name == 'weighted', we will multiply each w2v[word] with the idf(word)\n",
    "    vec = []\n",
    "    for i in sentence.split():\n",
    "        if i in vocab:\n",
    "            if m_name == 'weighted' and i in  idf_title_vectorizer.vocabulary_:\n",
    "                vec.append(idf_title_features[doc_id, idf_title_vectorizer.vocabulary_[i]] * model[i])\n",
    "            elif m_name == 'avg':\n",
    "                vec.append(model[i])\n",
    "        else:\n",
    "            # if the word in our courpus is not there in the google word2vec corpus, we are just ignoring it\n",
    "            vec.append(np.zeros(shape=(300,)))\n",
    "    # we will return a numpy array of shape (#number of words in title * 300 ) 300 = len(w2v_model[word])\n",
    "    # each row represents the word2vec representation of each word (weighted/avg) in given sentance \n",
    "    return  np.array(vec)\n",
    "\n",
    "def get_distance(vec1, vec2):\n",
    "    # vec1 = np.array(#number_of_words_title1 * 300), each row is a vector of length 300 corresponds to each word in give title\n",
    "    # vec2 = np.array(#number_of_words_title2 * 300), each row is a vector of length 300 corresponds to each word in give title\n",
    "    \n",
    "    final_dist = []\n",
    "    # for each vector in vec1 we caluclate the distance(euclidean) to all vectors in vec2\n",
    "    for i in vec1:\n",
    "        dist = []\n",
    "        for j in vec2:\n",
    "            # np.linalg.norm(i-j) will result the euclidean distance between vectors i, j\n",
    "            dist.append(np.linalg.norm(i-j))\n",
    "        final_dist.append(np.array(dist))\n",
    "    # final_dist = np.array(#number of words in title1 * #number of words in title2)\n",
    "    # final_dist[i,j] = euclidean distance between vectors i, j\n",
    "    return np.array(final_dist)\n",
    "\n",
    "\n"
   ]
  },
  {
   "cell_type": "code",
   "execution_count": 87,
   "id": "fe3ef890",
   "metadata": {},
   "outputs": [],
   "source": [
    "# vocab = stores all the words that are there in google w2v model\n",
    "# vocab = model.wv.vocab.keys() # if you are using Google word2Vec\n",
    "\n",
    "vocab = model.keys()\n",
    "# this function will add the vectors of each word and returns the avg vector of given sentance\n",
    "def build_avg_vec(sentence, num_features, doc_id, m_name):\n",
    "    # sentace: its title of the apparel\n",
    "    # num_features: the lenght of word2vec vector, its values = 300\n",
    "    # m_name: model information it will take two values\n",
    "        # if  m_name == 'avg', we will append the model[i], w2v representation of word i\n",
    "        # if m_name == 'weighted', we will multiply each w2v[word] with the idf(word)\n",
    "\n",
    "    featureVec = np.zeros((num_features,), dtype=\"float32\")\n",
    "    # we will intialize a vector of size 300 with all zeros\n",
    "    # we add each word2vec(wordi) to this fetureVec\n",
    "    nwords = 0\n",
    "    \n",
    "    for word in sentence.split():\n",
    "        nwords += 1\n",
    "        if word in vocab:\n",
    "            if m_name == 'weighted' and word in  idf_title_vectorizer.vocabulary_:\n",
    "                featureVec = np.add(featureVec, idf_title_features[doc_id, idf_title_vectorizer.vocabulary_[word]] * model[word])\n",
    "            elif m_name == 'avg':\n",
    "                featureVec = np.add(featureVec, model[word])\n",
    "    if(nwords>0):\n",
    "        featureVec = np.divide(featureVec, nwords)\n",
    "    # returns the avg vector of given sentance, its of shape (1, 300)\n",
    "    return featureVec\n"
   ]
  },
  {
   "cell_type": "code",
   "execution_count": 88,
   "id": "9b54cf84",
   "metadata": {},
   "outputs": [],
   "source": [
    "doc_id = 0\n",
    "w2v_title = []\n",
    "# for every title we build a avg vector representation\n",
    "for i in data['title']:\n",
    "    w2v_title.append(build_avg_vec(i, 300, doc_id,'avg'))\n",
    "    doc_id += 1\n",
    "\n",
    "# w2v_title = np.array(# number of doc in courpus * 300), each row corresponds to a doc \n",
    "w2v_title = np.array(w2v_title)"
   ]
  },
  {
   "cell_type": "code",
   "execution_count": 90,
   "id": "bb7e602d",
   "metadata": {},
   "outputs": [
    {
     "name": "stdout",
     "output_type": "stream",
     "text": [
      "ASIN : B06Y1KZ2WB\n",
      "BRAND : Éclair\n",
      "euclidean distance from given input image : 0.0\n",
      "=============================================================================================================================\n",
      "ASIN : B019R0GJ9E\n",
      "BRAND : Grace Elements\n",
      "euclidean distance from given input image : 0.0\n",
      "=============================================================================================================================\n",
      "ASIN : B0195PGUH2\n",
      "BRAND : Grace Elements\n",
      "euclidean distance from given input image : 0.0\n",
      "=============================================================================================================================\n",
      "ASIN : B01M5FU5Y9\n",
      "BRAND : Grace Elements\n",
      "euclidean distance from given input image : 0.0\n",
      "=============================================================================================================================\n",
      "ASIN : B01DUNI89I\n",
      "BRAND : Grace Elements\n",
      "euclidean distance from given input image : 0.0\n",
      "=============================================================================================================================\n",
      "ASIN : B00XWFHW4M\n",
      "BRAND : Grace Elements\n",
      "euclidean distance from given input image : 0.0\n",
      "=============================================================================================================================\n",
      "ASIN : B015J7RPVA\n",
      "BRAND : Grace Elements\n",
      "euclidean distance from given input image : 0.0\n",
      "=============================================================================================================================\n",
      "ASIN : B017DN74U0\n",
      "BRAND : Grace Elements\n",
      "euclidean distance from given input image : 0.0\n",
      "=============================================================================================================================\n",
      "ASIN : B019FUQB62\n",
      "BRAND : Grace Elements\n",
      "euclidean distance from given input image : 0.0\n",
      "=============================================================================================================================\n",
      "ASIN : B00UKEP2R2\n",
      "BRAND : Grace Elements\n",
      "euclidean distance from given input image : 0.0\n",
      "=============================================================================================================================\n",
      "ASIN : B01FIQJDOO\n",
      "BRAND : Grace Elements\n",
      "euclidean distance from given input image : 0.0\n",
      "=============================================================================================================================\n",
      "ASIN : B0198UVNSA\n",
      "BRAND : Grace Elements\n",
      "euclidean distance from given input image : 0.0\n",
      "=============================================================================================================================\n",
      "ASIN : B019ENEK04\n",
      "BRAND : Grace Elements\n",
      "euclidean distance from given input image : 0.0\n",
      "=============================================================================================================================\n",
      "ASIN : B0155AKZZY\n",
      "BRAND : Grace Elements\n",
      "euclidean distance from given input image : 0.0\n",
      "=============================================================================================================================\n",
      "ASIN : B015Q5RD4O\n",
      "BRAND : Grace Elements\n",
      "euclidean distance from given input image : 0.0\n",
      "=============================================================================================================================\n",
      "ASIN : B01MSYDNG5\n",
      "BRAND : Grace Elements\n",
      "euclidean distance from given input image : 0.0\n",
      "=============================================================================================================================\n",
      "ASIN : B01N44F9Q9\n",
      "BRAND : Grace Elements\n",
      "euclidean distance from given input image : 0.0\n",
      "=============================================================================================================================\n",
      "ASIN : B012XXCGG2\n",
      "BRAND : Grace Elements\n",
      "euclidean distance from given input image : 0.0\n",
      "=============================================================================================================================\n",
      "ASIN : B01990DJ4K\n",
      "BRAND : Grace Elements\n",
      "euclidean distance from given input image : 0.0\n",
      "=============================================================================================================================\n",
      "ASIN : B017BQ0F64\n",
      "BRAND : Grace Elements\n",
      "euclidean distance from given input image : 0.0\n",
      "=============================================================================================================================\n",
      "ASIN : B071CSHHZ2\n",
      "BRAND : Grace Elements\n",
      "euclidean distance from given input image : 0.0\n",
      "=============================================================================================================================\n",
      "ASIN : B019HHYNB8\n",
      "BRAND : Grace Elements\n",
      "euclidean distance from given input image : 0.0\n",
      "=============================================================================================================================\n",
      "ASIN : B00XAQ14TW\n",
      "BRAND : Grace Elements\n",
      "euclidean distance from given input image : 0.0\n",
      "=============================================================================================================================\n",
      "ASIN : B019JDGD4A\n",
      "BRAND : Grace Elements\n",
      "euclidean distance from given input image : 0.0\n",
      "=============================================================================================================================\n",
      "ASIN : B016ASDUTS\n",
      "BRAND : Grace Elements\n",
      "euclidean distance from given input image : 0.0\n",
      "=============================================================================================================================\n",
      "ASIN : B01DUJ6SIK\n",
      "BRAND : Grace Elements\n",
      "euclidean distance from given input image : 0.0\n",
      "=============================================================================================================================\n",
      "ASIN : B06ZYCW6PK\n",
      "BRAND : Goood Times\n",
      "euclidean distance from given input image : 0.0\n",
      "=============================================================================================================================\n",
      "ASIN : B01J5PWEF4\n",
      "BRAND : MUYTR\n",
      "euclidean distance from given input image : 0.0\n",
      "=============================================================================================================================\n",
      "ASIN : B01J5PWOL8\n",
      "BRAND : MUYTR\n",
      "euclidean distance from given input image : 0.0\n",
      "=============================================================================================================================\n",
      "ASIN : B01J5PWMCO\n",
      "BRAND : MUYTR\n",
      "euclidean distance from given input image : 0.0\n",
      "=============================================================================================================================\n"
     ]
    }
   ],
   "source": [
    "def avg_w2v_model(doc_id, num_results):\n",
    "    # doc_id: apparel's id in given corpus\n",
    "    \n",
    "    # dist(x, y) = sqrt(dot(x, x) - 2 * dot(x, y) + dot(y, y))\n",
    "    pairwise_dist = pairwise_distances(w2v_title, w2v_title[doc_id].reshape(1,-1))\n",
    "\n",
    "    # np.argsort will return indices of 9 smallest distances\n",
    "    indices = np.argsort(pairwise_dist.flatten())[0:num_results]\n",
    "    #pdists will store the 9 smallest distances\n",
    "    pdists  = np.sort(pairwise_dist.flatten())[0:num_results]\n",
    "\n",
    "    #data frame indices of the 9 smallest distace's\n",
    "    df_indices = list(data.index[indices])\n",
    "    \n",
    "    for i in range(0, len(indices)):\n",
    "       # heat_map_w2v(data['title'].loc[df_indices[0]],data['title'].loc[df_indices[i]], data['medium_image_url'].loc[df_indices[i]], indices[0], indices[i], 'avg')\n",
    "        print('ASIN :',data['asin'].loc[df_indices[i]])\n",
    "        print('BRAND :',data['brand'].loc[df_indices[i]])\n",
    "        print ('euclidean distance from given input image :', pdists[i])\n",
    "        print('='*125)\n",
    "\n",
    "        \n",
    "avg_w2v_model(12566, 30)"
   ]
  },
  {
   "cell_type": "code",
   "execution_count": null,
   "id": "9aa64065",
   "metadata": {},
   "outputs": [],
   "source": []
  }
 ],
 "metadata": {
  "kernelspec": {
   "display_name": "Python 3",
   "language": "python",
   "name": "python3"
  },
  "language_info": {
   "codemirror_mode": {
    "name": "ipython",
    "version": 3
   },
   "file_extension": ".py",
   "mimetype": "text/x-python",
   "name": "python",
   "nbconvert_exporter": "python",
   "pygments_lexer": "ipython3",
   "version": "3.8.8"
  }
 },
 "nbformat": 4,
 "nbformat_minor": 5
}
