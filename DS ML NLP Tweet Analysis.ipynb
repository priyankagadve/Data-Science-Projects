{
 "cells": [
  {
   "cell_type": "code",
   "execution_count": 1,
   "id": "b8bdb81e",
   "metadata": {},
   "outputs": [],
   "source": [
    "# Objective :\n",
    "\n",
    "# 1. Use regex to work with tweet dataset.\n",
    "# 2. Clean the data.\n",
    "# 3. Extract qll hashtags\n",
    "# 4. Analyze most popular hashtags.\n",
    "# 5. Analyze most popular hashtags that occur with '#economy'"
   ]
  },
  {
   "cell_type": "code",
   "execution_count": null,
   "id": "67ffd2e8",
   "metadata": {},
   "outputs": [],
   "source": [
    "RegEx Functions :\n",
    "\n",
    "1. search() : search the \"key\" and returns if key present.\n",
    "2. findall(): returns all the \"key\" in the form of List. (if not ot returns NULL List)\n",
    "3. split() : returns list, splits the string with matching \"key\"\n",
    "4. sub() : its substitutes \"key\" in the string with matching sequenece.\n",
    "    \n",
    "\n",
    "Matacharacters : \n",
    "\n",
    "- ^ : starts with    \n",
    "- [] : Set of characters \n",
    "- (.) : any character\n",
    "- ($) : ends with\n",
    "- (\\) : special sequence\n",
    "- (*) : zero or more occurances \n",
    "- (+) : one or more occurances\n",
    "- (?) : zero or one occurances\n",
    "- {} : exactly mentioned occurances\n",
    "- | : or \n",
    "\n",
    "Special Sequences :\n",
    "\n",
    "- \\s : It returns match with white space \n",
    "- \\S : It returns match which do not have white space\n",
    "- \\A : Returns a match if specified characers are present at begining of string.\n",
    "- \\b : Returns a match if specified characers are present at begining or at end of string.\n",
    "- \\d : Returns a match if string contains digits.\n",
    "- \\D : Returns a match if string does not contain digits\n",
    "- \\w : Returns a match if string contains words a-z A-Z 0-9\n",
    "- \\W : Returns a match if string does not contain words a-z A-Z 0-9\n",
    "- \\Z : Returns a match if string contains words at the end of string.\n",
    " \n",
    "\n",
    "Sets :\n",
    "\n",
    "1. [abc]: it returns match where a,b,c is present.\n",
    "2. [A-Z]or [a-z] : it returns match where A-Z, a-z is present.\n",
    "3. [^abc] : it returns match except a,b,c.\n",
    "4. [567]\n",
    "5. [0-9]\n",
    "6. [A-ZAa-z]"
   ]
  },
  {
   "cell_type": "code",
   "execution_count": 2,
   "id": "a5e4a4a1",
   "metadata": {},
   "outputs": [],
   "source": [
    "# Import Libraries\n",
    "\n",
    "import pandas as pd\n",
    "import numpy as np"
   ]
  },
  {
   "cell_type": "code",
   "execution_count": 3,
   "id": "198b2483",
   "metadata": {},
   "outputs": [],
   "source": [
    "df = pd.read_csv('raw_tweets_economy.txt', sep= \"\\t\")"
   ]
  },
  {
   "cell_type": "code",
   "execution_count": 5,
   "id": "7740dc02",
   "metadata": {},
   "outputs": [
    {
     "data": {
      "text/plain": [
       "(500, 2)"
      ]
     },
     "execution_count": 5,
     "metadata": {},
     "output_type": "execute_result"
    }
   ],
   "source": [
    "df.shape"
   ]
  },
  {
   "cell_type": "code",
   "execution_count": 13,
   "id": "05714d92",
   "metadata": {},
   "outputs": [
    {
     "data": {
      "text/plain": [
       "'Expanding cautiously is the best way to build a #business even if the #economy is slowing. Keep a healthy #cash res… https://t.co/fDIh8Nyyzb'"
      ]
     },
     "execution_count": 13,
     "metadata": {},
     "output_type": "execute_result"
    }
   ],
   "source": [
    "df['0'][50]"
   ]
  },
  {
   "cell_type": "code",
   "execution_count": 16,
   "id": "8c68abd1",
   "metadata": {},
   "outputs": [],
   "source": [
    "# Drop column 'Unnamed: 0' \n",
    "\n",
    "df.drop('Unnamed: 0', axis = 1, inplace = True)"
   ]
  },
  {
   "cell_type": "code",
   "execution_count": 19,
   "id": "261e5905",
   "metadata": {},
   "outputs": [],
   "source": [
    "# Rename column '0' to 'tweets'\n",
    "\n",
    "df  = df.rename({'0' : 'tweets'}, axis = 1)"
   ]
  },
  {
   "cell_type": "code",
   "execution_count": 20,
   "id": "578f907d",
   "metadata": {},
   "outputs": [
    {
     "data": {
      "text/html": [
       "<div>\n",
       "<style scoped>\n",
       "    .dataframe tbody tr th:only-of-type {\n",
       "        vertical-align: middle;\n",
       "    }\n",
       "\n",
       "    .dataframe tbody tr th {\n",
       "        vertical-align: top;\n",
       "    }\n",
       "\n",
       "    .dataframe thead th {\n",
       "        text-align: right;\n",
       "    }\n",
       "</style>\n",
       "<table border=\"1\" class=\"dataframe\">\n",
       "  <thead>\n",
       "    <tr style=\"text-align: right;\">\n",
       "      <th></th>\n",
       "      <th>tweets</th>\n",
       "    </tr>\n",
       "  </thead>\n",
       "  <tbody>\n",
       "    <tr>\n",
       "      <th>0</th>\n",
       "      <td>Stocks losses deepen as a key recession warnin...</td>\n",
       "    </tr>\n",
       "    <tr>\n",
       "      <th>1</th>\n",
       "      <td>RT @CallMeAhmjusAyn: The #economy.\\r\\n@FoxNews...</td>\n",
       "    </tr>\n",
       "    <tr>\n",
       "      <th>2</th>\n",
       "      <td>AP Explains: Is the US economy nearing a reces...</td>\n",
       "    </tr>\n",
       "    <tr>\n",
       "      <th>3</th>\n",
       "      <td>A @JobCreatorsUSA / https://t.co/JXEt7hQU4k su...</td>\n",
       "    </tr>\n",
       "    <tr>\n",
       "      <th>4</th>\n",
       "      <td>Who will stop mr. Mario Draghi and the ECB wit...</td>\n",
       "    </tr>\n",
       "    <tr>\n",
       "      <th>...</th>\n",
       "      <td>...</td>\n",
       "    </tr>\n",
       "    <tr>\n",
       "      <th>495</th>\n",
       "      <td>RT @michaeljohns: .@realDonaldTrump has transf...</td>\n",
       "    </tr>\n",
       "    <tr>\n",
       "      <th>496</th>\n",
       "      <td>RT @Emile1chedid: #Lebanon #Beirut #politics #...</td>\n",
       "    </tr>\n",
       "    <tr>\n",
       "      <th>497</th>\n",
       "      <td>RT @michaeljohns: .@realDonaldTrump has transf...</td>\n",
       "    </tr>\n",
       "    <tr>\n",
       "      <th>498</th>\n",
       "      <td>RT @farhadrahaei: RT.@HeshmatAlavi's #Facts #T...</td>\n",
       "    </tr>\n",
       "    <tr>\n",
       "      <th>499</th>\n",
       "      <td>#PrimeMinister @narendramodi commits to pumpin...</td>\n",
       "    </tr>\n",
       "  </tbody>\n",
       "</table>\n",
       "<p>500 rows × 1 columns</p>\n",
       "</div>"
      ],
      "text/plain": [
       "                                                tweets\n",
       "0    Stocks losses deepen as a key recession warnin...\n",
       "1    RT @CallMeAhmjusAyn: The #economy.\\r\\n@FoxNews...\n",
       "2    AP Explains: Is the US economy nearing a reces...\n",
       "3    A @JobCreatorsUSA / https://t.co/JXEt7hQU4k su...\n",
       "4    Who will stop mr. Mario Draghi and the ECB wit...\n",
       "..                                                 ...\n",
       "495  RT @michaeljohns: .@realDonaldTrump has transf...\n",
       "496  RT @Emile1chedid: #Lebanon #Beirut #politics #...\n",
       "497  RT @michaeljohns: .@realDonaldTrump has transf...\n",
       "498  RT @farhadrahaei: RT.@HeshmatAlavi's #Facts #T...\n",
       "499  #PrimeMinister @narendramodi commits to pumpin...\n",
       "\n",
       "[500 rows x 1 columns]"
      ]
     },
     "execution_count": 20,
     "metadata": {},
     "output_type": "execute_result"
    }
   ],
   "source": [
    "df"
   ]
  },
  {
   "cell_type": "code",
   "execution_count": 25,
   "id": "eed7f1c7",
   "metadata": {},
   "outputs": [],
   "source": [
    "# Lets get all tweets into a single Sequence (List) to clean up tweets data.\n",
    "\n",
    "l1 = df['tweets'].values\n"
   ]
  },
  {
   "cell_type": "code",
   "execution_count": 28,
   "id": "0e00d699",
   "metadata": {},
   "outputs": [
    {
     "data": {
      "text/plain": [
       "(numpy.ndarray, 500)"
      ]
     },
     "execution_count": 28,
     "metadata": {},
     "output_type": "execute_result"
    }
   ],
   "source": [
    "type(l1), len(l1)"
   ]
  },
  {
   "cell_type": "code",
   "execution_count": 35,
   "id": "de78dbbe",
   "metadata": {},
   "outputs": [
    {
     "data": {
      "text/plain": [
       "'Stocks losses deepen as a key recession warning surfaces @GOP #economy #fail #collapse #recession #gop #greed… https://t.co/F8kazAixUk'"
      ]
     },
     "execution_count": 35,
     "metadata": {},
     "output_type": "execute_result"
    }
   ],
   "source": [
    "l1[0]"
   ]
  },
  {
   "cell_type": "code",
   "execution_count": null,
   "id": "cb493094",
   "metadata": {},
   "outputs": [],
   "source": [
    "# 'Stocks losses deepen as a key recession warning surfaces @GOP \n",
    "# #economy #fail #collapse #recession #gop #greed… https://t.co/F8kazAixUk'"
   ]
  },
  {
   "cell_type": "code",
   "execution_count": null,
   "id": "1efe9a82",
   "metadata": {},
   "outputs": [],
   "source": [
    "# Tweet Contains : \n",
    "\n",
    "# 1. hashtags\n",
    "# 2. URLs\n",
    "# 3. User Handles\n",
    "# 4. Retweets"
   ]
  },
  {
   "cell_type": "markdown",
   "id": "01ed3220",
   "metadata": {},
   "source": [
    "#### Clean Data "
   ]
  },
  {
   "cell_type": "code",
   "execution_count": 36,
   "id": "ad71986a",
   "metadata": {},
   "outputs": [],
   "source": [
    "# 1. Convert all words into lower case"
   ]
  },
  {
   "cell_type": "code",
   "execution_count": 44,
   "id": "25daadd3",
   "metadata": {},
   "outputs": [],
   "source": [
    "l1_lower = [i.lower()    for i in l1]"
   ]
  },
  {
   "cell_type": "code",
   "execution_count": 49,
   "id": "1896be13",
   "metadata": {},
   "outputs": [
    {
     "data": {
      "text/plain": [
       "'@realdonaldtrump with 30yr t under 2%, massive infrastructure plan announcement would be timely and counter trade w… https://t.co/qlk3ckcsiy'"
      ]
     },
     "execution_count": 49,
     "metadata": {},
     "output_type": "execute_result"
    }
   ],
   "source": [
    "l1_lower[151]"
   ]
  },
  {
   "cell_type": "code",
   "execution_count": 52,
   "id": "07008db5",
   "metadata": {},
   "outputs": [],
   "source": [
    "# 2. Remove User Handles : starting with @\n",
    "\n",
    "s1 = 'Hi there ! @realYash How are you ?  '"
   ]
  },
  {
   "cell_type": "code",
   "execution_count": 50,
   "id": "e974e747",
   "metadata": {},
   "outputs": [],
   "source": [
    "# Use Regular Expressions  [re]\n",
    "\n",
    "import re"
   ]
  },
  {
   "cell_type": "code",
   "execution_count": 53,
   "id": "acf5483d",
   "metadata": {},
   "outputs": [
    {
     "data": {
      "text/plain": [
       "'Hi there !  How are you ? '"
      ]
     },
     "execution_count": 53,
     "metadata": {},
     "output_type": "execute_result"
    }
   ],
   "source": [
    "re.sub('@\\w+', '', s1)"
   ]
  },
  {
   "cell_type": "code",
   "execution_count": 54,
   "id": "5ef0ab2b",
   "metadata": {},
   "outputs": [],
   "source": [
    "l1_noUserHandle = [ re.sub('@\\w+', '', i)               for i in l1_lower]"
   ]
  },
  {
   "cell_type": "code",
   "execution_count": 56,
   "id": "0b08efb1",
   "metadata": {},
   "outputs": [
    {
     "data": {
      "text/plain": [
       "' with 30yr t under 2%, massive infrastructure plan announcement would be timely and counter trade w… https://t.co/qlk3ckcsiy'"
      ]
     },
     "execution_count": 56,
     "metadata": {},
     "output_type": "execute_result"
    }
   ],
   "source": [
    "l1_noUserHandle[151]"
   ]
  },
  {
   "cell_type": "code",
   "execution_count": 57,
   "id": "e7a368aa",
   "metadata": {},
   "outputs": [],
   "source": [
    "# 3. Remove URLs"
   ]
  },
  {
   "cell_type": "code",
   "execution_count": 58,
   "id": "931f98dc",
   "metadata": {},
   "outputs": [],
   "source": [
    "\n",
    "s1 = 'Hi there ! @realYash How are you ? https://t.co/qlk3ckcsiy' "
   ]
  },
  {
   "cell_type": "code",
   "execution_count": 60,
   "id": "d0367f1f",
   "metadata": {},
   "outputs": [
    {
     "data": {
      "text/plain": [
       "'Hi there ! @realYash How are you ? '"
      ]
     },
     "execution_count": 60,
     "metadata": {},
     "output_type": "execute_result"
    }
   ],
   "source": [
    "re.sub('\\w+://\\S+', '', s1)"
   ]
  },
  {
   "cell_type": "code",
   "execution_count": 61,
   "id": "aebc1f63",
   "metadata": {},
   "outputs": [],
   "source": [
    "l1_noUser_noURL = [ [re.sub('\\w+://\\S+', '', i)]                for i in l1_noUserHandle]"
   ]
  },
  {
   "cell_type": "code",
   "execution_count": 76,
   "id": "5229beea",
   "metadata": {},
   "outputs": [
    {
     "data": {
      "text/plain": [
       "list"
      ]
     },
     "execution_count": 76,
     "metadata": {},
     "output_type": "execute_result"
    }
   ],
   "source": [
    "type(l1_noUser_noURL[0])"
   ]
  },
  {
   "cell_type": "code",
   "execution_count": 67,
   "id": "1474ae81",
   "metadata": {},
   "outputs": [],
   "source": [
    "# 4. Extract hashtags "
   ]
  },
  {
   "cell_type": "code",
   "execution_count": 78,
   "id": "38d83595",
   "metadata": {},
   "outputs": [],
   "source": [
    "hashtags =    [  re.findall(\"#\\w+\", str(i) )     for i in l1_noUser_noURL   ]"
   ]
  },
  {
   "cell_type": "code",
   "execution_count": 85,
   "id": "2e849c64",
   "metadata": {},
   "outputs": [
    {
     "data": {
      "text/plain": [
       "[['#economy', '#fail', '#collapse', '#recession', '#gop', '#greed'],\n",
       " ['#economy',\n",
       "  '#trump',\n",
       "  '#maga',\n",
       "  '#trumptrain2020',\n",
       "  '#sheeple',\n",
       "  '#farming',\n",
       "  '#trad'],\n",
       " ['#business', '#economy', '#recession', '#tradewar', '#china', '#eu'],\n",
       " ['#economy'],\n",
       " []]"
      ]
     },
     "execution_count": 85,
     "metadata": {},
     "output_type": "execute_result"
    }
   ],
   "source": [
    "hashtags[:5]"
   ]
  },
  {
   "cell_type": "code",
   "execution_count": null,
   "id": "5f283707",
   "metadata": {},
   "outputs": [],
   "source": [
    "# 5. First lets combine all hashtags in the form of a list"
   ]
  },
  {
   "cell_type": "code",
   "execution_count": 84,
   "id": "5077310b",
   "metadata": {},
   "outputs": [],
   "source": [
    "all_hashtags = []   # empty list"
   ]
  },
  {
   "cell_type": "code",
   "execution_count": 86,
   "id": "a476c64b",
   "metadata": {},
   "outputs": [],
   "source": [
    "for i in hashtags :\n",
    "    all_hashtags.extend(i)"
   ]
  },
  {
   "cell_type": "code",
   "execution_count": 88,
   "id": "0befb7a6",
   "metadata": {},
   "outputs": [
    {
     "data": {
      "text/plain": [
       "1061"
      ]
     },
     "execution_count": 88,
     "metadata": {},
     "output_type": "execute_result"
    }
   ],
   "source": [
    "len(all_hashtags)   # Total hashtags in all tweets"
   ]
  },
  {
   "cell_type": "code",
   "execution_count": 89,
   "id": "cddf493a",
   "metadata": {},
   "outputs": [],
   "source": [
    "# 6. Lets count : count of each hashtag"
   ]
  },
  {
   "cell_type": "code",
   "execution_count": 102,
   "id": "a41f1980",
   "metadata": {},
   "outputs": [],
   "source": [
    "import matplotlib.pyplot as plt\n",
    "import seaborn as sns"
   ]
  },
  {
   "cell_type": "code",
   "execution_count": 91,
   "id": "8880e35f",
   "metadata": {},
   "outputs": [],
   "source": [
    "from collections import Counter"
   ]
  },
  {
   "cell_type": "code",
   "execution_count": 94,
   "id": "135f6a3f",
   "metadata": {},
   "outputs": [],
   "source": [
    "hashtag_count = Counter(all_hashtags)"
   ]
  },
  {
   "cell_type": "code",
   "execution_count": 106,
   "id": "2c923bba",
   "metadata": {},
   "outputs": [],
   "source": [
    "hashtag_top_ten = hashtag_count.most_common()[: 10 ]                          "
   ]
  },
  {
   "cell_type": "code",
   "execution_count": 111,
   "id": "5ce50aab",
   "metadata": {},
   "outputs": [],
   "source": [
    "#hashtag_top_ten"
   ]
  },
  {
   "cell_type": "code",
   "execution_count": 116,
   "id": "7fd38fbe",
   "metadata": {},
   "outputs": [],
   "source": [
    "hash2 = { i : j          for i, j in hashtag_top_ten }\n",
    "    "
   ]
  },
  {
   "cell_type": "code",
   "execution_count": 118,
   "id": "2a0580e7",
   "metadata": {},
   "outputs": [
    {
     "data": {
      "text/plain": [
       "dict"
      ]
     },
     "execution_count": 118,
     "metadata": {},
     "output_type": "execute_result"
    }
   ],
   "source": [
    "type(hash2)"
   ]
  },
  {
   "cell_type": "code",
   "execution_count": 120,
   "id": "d1ae474b",
   "metadata": {},
   "outputs": [
    {
     "data": {
      "text/plain": [
       "dict_keys(['#economy', '#recession', '#india', '#business', '#hongkong', '#bloomberg', '#china', '#trump', '#markets', '#economics'])"
      ]
     },
     "execution_count": 120,
     "metadata": {},
     "output_type": "execute_result"
    }
   ],
   "source": [
    "hash2.keys()"
   ]
  },
  {
   "cell_type": "code",
   "execution_count": 122,
   "id": "eeb4a435",
   "metadata": {},
   "outputs": [
    {
     "data": {
      "text/plain": [
       "dict_values([246, 24, 20, 18, 17, 15, 12, 10, 9, 9])"
      ]
     },
     "execution_count": 122,
     "metadata": {},
     "output_type": "execute_result"
    }
   ],
   "source": [
    "hash2.values()"
   ]
  },
  {
   "cell_type": "code",
   "execution_count": 130,
   "id": "4ae4318f",
   "metadata": {},
   "outputs": [
    {
     "data": {
      "image/png": "[encoded data removed]",
      "text/plain": [
       "<Figure size 640x480 with 1 Axes>"
      ]
     },
     "metadata": {},
     "output_type": "display_data"
    }
   ],
   "source": [
    "plt.barh(list(hash2.keys()), list(hash2.values()), color = 'red', alpha = 0.3 )\n",
    "plt.show()"
   ]
  },
  {
   "cell_type": "code",
   "execution_count": null,
   "id": "564bc1ab",
   "metadata": {},
   "outputs": [],
   "source": []
  }
 ],
 "metadata": {
  "kernelspec": {
   "display_name": "Python 3 (ipykernel)",
   "language": "python",
   "name": "python3"
  },
  "language_info": {
   "codemirror_mode": {
    "name": "ipython",
    "version": 3
   },
   "file_extension": ".py",
   "mimetype": "text/x-python",
   "name": "python",
   "nbconvert_exporter": "python",
   "pygments_lexer": "ipython3",
   "version": "3.11.4"
  }
 },
 "nbformat": 4,
 "nbformat_minor": 5
}
